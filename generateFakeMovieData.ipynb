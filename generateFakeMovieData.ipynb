{
 "cells": [
  {
   "cell_type": "code",
   "execution_count": 4,
   "id": "1bed2e79-0ed1-48f9-9519-39caa0fa5ffc",
   "metadata": {},
   "outputs": [
    {
     "name": "stdout",
     "output_type": "stream",
     "text": [
      "\n",
      "                  __    __    __    __\n",
      "                 /  \\  /  \\  /  \\  /  \\\n",
      "                /    \\/    \\/    \\/    \\\n",
      "███████████████/  /██/  /██/  /██/  /████████████████████████\n",
      "              /  / \\   / \\   / \\   / \\  \\____\n",
      "             /  /   \\_/   \\_/   \\_/   \\    o \\__,\n",
      "            / _/                       \\_____/  `\n",
      "            |/\n",
      "        ███╗   ███╗ █████╗ ███╗   ███╗██████╗  █████╗\n",
      "        ████╗ ████║██╔══██╗████╗ ████║██╔══██╗██╔══██╗\n",
      "        ██╔████╔██║███████║██╔████╔██║██████╔╝███████║\n",
      "        ██║╚██╔╝██║██╔══██║██║╚██╔╝██║██╔══██╗██╔══██║\n",
      "        ██║ ╚═╝ ██║██║  ██║██║ ╚═╝ ██║██████╔╝██║  ██║\n",
      "        ╚═╝     ╚═╝╚═╝  ╚═╝╚═╝     ╚═╝╚═════╝ ╚═╝  ╚═╝\n",
      "\n",
      "        mamba (0.16.0) supported by @QuantStack\n",
      "\n",
      "        GitHub:  https://github.com/mamba-org/mamba\n",
      "        Twitter: https://twitter.com/QuantStack\n",
      "\n",
      "█████████████████████████████████████████████████████████████\n",
      "\n",
      "\n",
      "Looking for: ['faker']\n",
      "\n",
      "WARNING conda.lock:touch(51): Failed to create lock, do not run conda in parallel processes [errno 13]\n",
      "conda-forge/linux-64     Using cache\n",
      "conda-forge/noarch       Using cache\n",
      "\n",
      "Pinned packages:\n",
      "  - python 3.9.*\n",
      "  - python 3.9.7\n",
      "\n",
      "\n",
      "Transaction\n",
      "\n",
      "  Prefix: /opt/conda\n",
      "\n",
      "  All requested packages already installed\n",
      "\n"
     ]
    }
   ],
   "source": [
    "#!pip install faker\n",
    "!mamba install --yes faker"
   ]
  },
  {
   "cell_type": "markdown",
   "id": "f8ff8565-e821-4d04-b5a5-d015cb150396",
   "metadata": {},
   "source": [
    "## Emulating The Netflix Original Movies IMDB Scores Dataset\n",
    "https://dev.to/okeeffed/generating-fake-csv-data-with-python-1od3"
   ]
  },
  {
   "cell_type": "code",
   "execution_count": 2,
   "id": "3c0f7f1d-e289-4bb2-b239-4b54f57d63d2",
   "metadata": {},
   "outputs": [],
   "source": [
    "from faker import Faker\n",
    "\n",
    "fake = Faker()"
   ]
  },
  {
   "cell_type": "code",
   "execution_count": 3,
   "id": "090c785e-3852-45c0-85da-5cd896d819fc",
   "metadata": {},
   "outputs": [
    {
     "name": "stdout",
     "output_type": "stream",
     "text": [
      "Toward General Speech\n"
     ]
    }
   ],
   "source": [
    "def capitalize(str):\n",
    "    return str.capitalize()\n",
    "words = fake.words()\n",
    "capitalized_words = list(map(capitalize, words))\n",
    "movie_name = ' '.join(capitalized_words)\n",
    "print(movie_name) # Serve Fear Consider"
   ]
  },
  {
   "cell_type": "code",
   "execution_count": 5,
   "id": "11274192-1c2d-4fcd-84f1-4f71984e1e6e",
   "metadata": {},
   "outputs": [
    {
     "name": "stdout",
     "output_type": "stream",
     "text": [
      "January 22, 2020\n"
     ]
    }
   ],
   "source": [
    "from datetime import datetime\n",
    "\n",
    "date = datetime.strftime(fake.date_time_this_decade(), \"%B %d, %Y\")\n",
    "print(date) # April 30, 2020"
   ]
  },
  {
   "cell_type": "code",
   "execution_count": 6,
   "id": "0563438b-ca59-45f3-9e83-39e5b5b2adf9",
   "metadata": {},
   "outputs": [
    {
     "name": "stdout",
     "output_type": "stream",
     "text": [
      "Romance\n"
     ]
    }
   ],
   "source": [
    "# creating a provider for genre\n",
    "from faker.providers import BaseProvider\n",
    "import random\n",
    "\n",
    "# create new provider class\n",
    "class GenereProvider(BaseProvider):\n",
    "    def movie_genre(self):\n",
    "        return random.choice(['Documentary', 'Thriller', 'Mystery', 'Horror', 'Action', 'Comedy', 'Drama', 'Romance'])\n",
    "\n",
    "# then add new provider to faker instance\n",
    "fake.add_provider(GenereProvider)\n",
    "\n",
    "# now you can use:\n",
    "movie_genre = fake.movie_genre()\n",
    "print(movie_genre) # Horror"
   ]
  },
  {
   "cell_type": "code",
   "execution_count": 7,
   "id": "cd0b3d28-0b5e-48d4-8c86-340f1d3e722a",
   "metadata": {},
   "outputs": [
    {
     "name": "stdout",
     "output_type": "stream",
     "text": [
      "Chinese\n"
     ]
    }
   ],
   "source": [
    "# creating a provider for genre\n",
    "from faker.providers import BaseProvider\n",
    "import random\n",
    "\n",
    "# create new provider class\n",
    "class LanguageProvider(BaseProvider):\n",
    "    def language(self):\n",
    "        return random.choice(['English', 'Chinese', 'Italian', 'Spanish', 'Hindi', 'Japanese'])\n",
    "\n",
    "# then add new provider to faker instance\n",
    "fake.add_provider(LanguageProvider)\n",
    "\n",
    "# now you can use:\n",
    "language = fake.language()\n",
    "print(language) # Spanish"
   ]
  },
  {
   "cell_type": "code",
   "execution_count": 8,
   "id": "f92d3043-7b81-43ab-a452-1f246114ecaf",
   "metadata": {},
   "outputs": [
    {
     "name": "stdout",
     "output_type": "stream",
     "text": [
      "128\n"
     ]
    }
   ],
   "source": [
    "# Getting random movie length\n",
    "movie_len = random.randrange(50, 150)\n",
    "print(movie_len) # 143"
   ]
  },
  {
   "cell_type": "code",
   "execution_count": 9,
   "id": "d7519267-2182-477b-93b2-44e112373d43",
   "metadata": {},
   "outputs": [
    {
     "name": "stdout",
     "output_type": "stream",
     "text": [
      "2.7\n"
     ]
    }
   ],
   "source": [
    "# Movie rating\n",
    "random_rating = round(random.uniform(1.0, 5.0), 1)\n",
    "print(random_rating) # 2.2"
   ]
  },
  {
   "cell_type": "code",
   "execution_count": 10,
   "id": "7598bd3a-a00f-410c-9a1b-ab93541f2471",
   "metadata": {},
   "outputs": [],
   "source": [
    "from faker import Faker\n",
    "from faker.providers import BaseProvider\n",
    "import random\n",
    "import csv\n",
    "\n",
    "class GenereProvider(BaseProvider):\n",
    "    def movie_genre(self):\n",
    "        return random.choice(['Documentary', 'Thriller', 'Mystery', 'Horror', 'Action', 'Comedy', 'Drama', 'Romance'])\n",
    "\n",
    "class LanguageProvider(BaseProvider):\n",
    "    def language(self):\n",
    "        return random.choice(['English', 'Chinese', 'Italian', 'Spanish', 'Hindi', 'Japanese'])\n",
    "\n",
    "fake = Faker()\n",
    "\n",
    "fake.add_provider(GenereProvider)\n",
    "fake.add_provider(LanguageProvider)\n",
    "\n",
    "# Some of this is a bit verbose now, but doing so for the sake of completion\n",
    "\n",
    "def get_movie_name():\n",
    "    words = fake.words()\n",
    "    capitalized_words = list(map(capitalize, words))\n",
    "    return ' '.join(capitalized_words)\n",
    "\n",
    "def get_movie_date():\n",
    "    return datetime.strftime(fake.date_time_this_decade(), \"%B %d, %Y\")\n",
    "\n",
    "def get_movie_len():\n",
    "    return random.randrange(50, 150)\n",
    "\n",
    "def get_movie_rating():\n",
    "    return round(random.uniform(1.0, 5.0), 1)\n",
    "\n",
    "def generate_movie():\n",
    "    return [get_movie_name(), fake.movie_genre(), get_movie_date(), get_movie_len(), get_movie_rating(), fake.language()]\n",
    "\n",
    "with open('movie_data.csv', 'w') as csvfile:\n",
    "    writer = csv.writer(csvfile)\n",
    "    writer.writerow(['Title', 'Genre', 'Premiere', 'Runtime', 'IMDB Score', 'Language'])\n",
    "    for n in range(1, 100):\n",
    "        writer.writerow(generate_movie())"
   ]
  },
  {
   "cell_type": "code",
   "execution_count": null,
   "id": "fd46b557-d6c8-43be-b605-34359e294b31",
   "metadata": {},
   "outputs": [],
   "source": []
  }
 ],
 "metadata": {
  "kernelspec": {
   "display_name": "Python 3 (ipykernel)",
   "language": "python",
   "name": "python3"
  },
  "language_info": {
   "codemirror_mode": {
    "name": "ipython",
    "version": 3
   },
   "file_extension": ".py",
   "mimetype": "text/x-python",
   "name": "python",
   "nbconvert_exporter": "python",
   "pygments_lexer": "ipython3",
   "version": "3.9.7"
  }
 },
 "nbformat": 4,
 "nbformat_minor": 5
}
