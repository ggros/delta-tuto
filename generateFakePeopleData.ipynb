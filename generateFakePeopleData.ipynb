{
 "cells": [
  {
   "cell_type": "markdown",
   "id": "e0a69ba8-c2c3-4071-a8ae-b298c9ee9641",
   "metadata": {},
   "source": [
    "# A Quick Guide to Generating Fake Data with Pandas\n",
    "https://www.caktusgroup.com/blog/2020/04/15/quick-guide-generating-fake-data-with-pandas/"
   ]
  },
  {
   "cell_type": "code",
   "execution_count": 1,
   "id": "4f64b543-6650-433a-a61d-94d71f31d6d3",
   "metadata": {},
   "outputs": [],
   "source": [
    "#!pip install faker"
   ]
  },
  {
   "cell_type": "code",
   "execution_count": 1,
   "id": "12aa7078-17a4-4344-a711-875b718d5405",
   "metadata": {},
   "outputs": [
    {
     "ename": "ModuleNotFoundError",
     "evalue": "No module named 'faker'",
     "output_type": "error",
     "traceback": [
      "\u001b[0;31m---------------------------------------------------------------------------\u001b[0m",
      "\u001b[0;31mModuleNotFoundError\u001b[0m                       Traceback (most recent call last)",
      "\u001b[0;32m<ipython-input-1-befe48e32177>\u001b[0m in \u001b[0;36m<module>\u001b[0;34m\u001b[0m\n\u001b[1;32m      1\u001b[0m \u001b[0;32mimport\u001b[0m \u001b[0mnumpy\u001b[0m \u001b[0;32mas\u001b[0m \u001b[0mnp\u001b[0m\u001b[0;34m\u001b[0m\u001b[0;34m\u001b[0m\u001b[0m\n\u001b[1;32m      2\u001b[0m \u001b[0;32mimport\u001b[0m \u001b[0mpandas\u001b[0m \u001b[0;32mas\u001b[0m \u001b[0mpd\u001b[0m\u001b[0;34m\u001b[0m\u001b[0;34m\u001b[0m\u001b[0m\n\u001b[0;32m----> 3\u001b[0;31m \u001b[0;32mfrom\u001b[0m \u001b[0mfaker\u001b[0m\u001b[0;34m.\u001b[0m\u001b[0mproviders\u001b[0m\u001b[0;34m.\u001b[0m\u001b[0mperson\u001b[0m\u001b[0;34m.\u001b[0m\u001b[0men\u001b[0m \u001b[0;32mimport\u001b[0m \u001b[0mProvider\u001b[0m\u001b[0;34m\u001b[0m\u001b[0;34m\u001b[0m\u001b[0m\n\u001b[0m\u001b[1;32m      4\u001b[0m \u001b[0;32mfrom\u001b[0m \u001b[0mfaker\u001b[0m \u001b[0;32mimport\u001b[0m \u001b[0mFaker\u001b[0m\u001b[0;34m\u001b[0m\u001b[0;34m\u001b[0m\u001b[0m\n",
      "\u001b[0;31mModuleNotFoundError\u001b[0m: No module named 'faker'"
     ]
    }
   ],
   "source": [
    "import numpy as np\n",
    "import pandas as pd\n",
    "from faker.providers.person.en import Provider\n",
    "from faker import Faker"
   ]
  },
  {
   "cell_type": "code",
   "execution_count": 3,
   "id": "f15a1424-4a25-45d6-adc6-8010e81e9565",
   "metadata": {},
   "outputs": [
    {
     "name": "stdout",
     "output_type": "stream",
     "text": [
      "achang@example.org\n",
      "tammy76@example.com\n",
      "nhoward@example.net\n",
      "juancampos@example.net\n",
      "vanessa89@example.org\n"
     ]
    }
   ],
   "source": [
    "Faker.seed(0)\n",
    "fake = Faker()\n",
    "for _ in range(5):\n",
    "    print(fake.email())"
   ]
  },
  {
   "cell_type": "code",
   "execution_count": 4,
   "id": "651f4c7c-c48e-41a3-8557-988dca0923ae",
   "metadata": {},
   "outputs": [],
   "source": [
    "def random_names(name_type, size):\n",
    "    \"\"\"\n",
    "    Generate n-length ndarray of person names.\n",
    "    name_type: a string, either first_names or last_names\n",
    "    \"\"\"\n",
    "    names = getattr(Provider, name_type)\n",
    "    return np.random.choice(names, size=size)"
   ]
  },
  {
   "cell_type": "code",
   "execution_count": 5,
   "id": "6704e688-30f7-4fbf-af85-c1e2e182322c",
   "metadata": {},
   "outputs": [],
   "source": [
    "def random_fullnames(size):\n",
    "    return [fake.name() for _ in range(size)]"
   ]
  },
  {
   "cell_type": "code",
   "execution_count": 6,
   "id": "da2c8aba-1536-4328-be13-bdbab023e99d",
   "metadata": {},
   "outputs": [],
   "source": [
    "def random_genders(size, p=None):\n",
    "    \"\"\"Generate n-length ndarray of genders.\"\"\"\n",
    "    if not p:\n",
    "        # default probabilities\n",
    "        p = (0.49, 0.49, 0.01, 0.01)\n",
    "    gender = (\"M\", \"F\", \"O\", \"\")\n",
    "    return np.random.choice(gender, size=size, p=p)"
   ]
  },
  {
   "cell_type": "code",
   "execution_count": 7,
   "id": "9aaf7ad5-1f0e-4722-8ba6-d226504eda70",
   "metadata": {},
   "outputs": [],
   "source": [
    "def random_dates(start, end, size):\n",
    "    \"\"\"\n",
    "    Generate random dates within range between start and end.    \n",
    "    Adapted from: https://stackoverflow.com/a/50668285\n",
    "    \"\"\"\n",
    "    # Unix timestamp is in nanoseconds by default, so divide it by\n",
    "    # 24*60*60*10**9 to convert to days.\n",
    "    divide_by = 24 * 60 * 60 * 10**9\n",
    "    start_u = start.value // divide_by\n",
    "    end_u = end.value // divide_by\n",
    "    return pd.to_datetime(np.random.randint(start_u, end_u, size), unit=\"D\")"
   ]
  },
  {
   "cell_type": "code",
   "execution_count": 8,
   "id": "6da2c3be-2b39-405b-9d0f-0a1ba8d64e36",
   "metadata": {},
   "outputs": [],
   "source": [
    "# How many records do we want to create in our CSV? In this example\n",
    "# we are generating 100, but you could also find relatively fast results generating \n",
    "# much larger datasets\n",
    "size = 100\n",
    "df = pd.DataFrame(columns=['First', 'Last', 'Gender', 'Birthdate'])\n",
    "df['First'] = random_names('first_names', size)\n",
    "df['Last'] = random_names('last_names', size) \n",
    "df['Gender'] = random_genders(size)\n",
    "df['Birthdate'] = random_dates(start=pd.to_datetime('1940-01-01'), end=pd.to_datetime('2008-01-01'), size=size)\n",
    "# alternate way to gen date directly with faker, instead of numpy\n",
    "df['xdate'] = [fake.date_between(start_date='-30y', end_date='today') for _ in range(size)]\n",
    "df.index.name='id'\n",
    "df.to_csv('fake-file.csv')"
   ]
  },
  {
   "cell_type": "code",
   "execution_count": 9,
   "id": "6ad2e7ce-953a-4402-ab7d-0672ec383104",
   "metadata": {},
   "outputs": [
    {
     "data": {
      "text/html": [
       "<div>\n",
       "<style scoped>\n",
       "    .dataframe tbody tr th:only-of-type {\n",
       "        vertical-align: middle;\n",
       "    }\n",
       "\n",
       "    .dataframe tbody tr th {\n",
       "        vertical-align: top;\n",
       "    }\n",
       "\n",
       "    .dataframe thead th {\n",
       "        text-align: right;\n",
       "    }\n",
       "</style>\n",
       "<table border=\"1\" class=\"dataframe\">\n",
       "  <thead>\n",
       "    <tr style=\"text-align: right;\">\n",
       "      <th></th>\n",
       "      <th>First</th>\n",
       "      <th>Last</th>\n",
       "      <th>Gender</th>\n",
       "      <th>Birthdate</th>\n",
       "      <th>xdate</th>\n",
       "    </tr>\n",
       "    <tr>\n",
       "      <th>id</th>\n",
       "      <th></th>\n",
       "      <th></th>\n",
       "      <th></th>\n",
       "      <th></th>\n",
       "      <th></th>\n",
       "    </tr>\n",
       "  </thead>\n",
       "  <tbody>\n",
       "    <tr>\n",
       "      <th>0</th>\n",
       "      <td>Andre</td>\n",
       "      <td>Bergstrom</td>\n",
       "      <td>F</td>\n",
       "      <td>1944-11-24</td>\n",
       "      <td>2002-05-01</td>\n",
       "    </tr>\n",
       "    <tr>\n",
       "      <th>1</th>\n",
       "      <td>Ottie</td>\n",
       "      <td>Olson</td>\n",
       "      <td>M</td>\n",
       "      <td>1985-01-06</td>\n",
       "      <td>1995-02-20</td>\n",
       "    </tr>\n",
       "    <tr>\n",
       "      <th>2</th>\n",
       "      <td>Indiana</td>\n",
       "      <td>Rempel</td>\n",
       "      <td>M</td>\n",
       "      <td>1978-02-14</td>\n",
       "      <td>2016-08-11</td>\n",
       "    </tr>\n",
       "    <tr>\n",
       "      <th>3</th>\n",
       "      <td>Mariah</td>\n",
       "      <td>VonRueden</td>\n",
       "      <td>M</td>\n",
       "      <td>1964-09-19</td>\n",
       "      <td>1994-04-15</td>\n",
       "    </tr>\n",
       "    <tr>\n",
       "      <th>4</th>\n",
       "      <td>Mayme</td>\n",
       "      <td>Buckridge</td>\n",
       "      <td>M</td>\n",
       "      <td>1974-10-27</td>\n",
       "      <td>2020-09-18</td>\n",
       "    </tr>\n",
       "    <tr>\n",
       "      <th>...</th>\n",
       "      <td>...</td>\n",
       "      <td>...</td>\n",
       "      <td>...</td>\n",
       "      <td>...</td>\n",
       "      <td>...</td>\n",
       "    </tr>\n",
       "    <tr>\n",
       "      <th>95</th>\n",
       "      <td>Author</td>\n",
       "      <td>Pfeffer</td>\n",
       "      <td>F</td>\n",
       "      <td>1990-02-19</td>\n",
       "      <td>2007-12-29</td>\n",
       "    </tr>\n",
       "    <tr>\n",
       "      <th>96</th>\n",
       "      <td>Paulina</td>\n",
       "      <td>Kuhic</td>\n",
       "      <td>F</td>\n",
       "      <td>1949-09-18</td>\n",
       "      <td>1994-02-16</td>\n",
       "    </tr>\n",
       "    <tr>\n",
       "      <th>97</th>\n",
       "      <td>Arkie</td>\n",
       "      <td>O'Conner</td>\n",
       "      <td>M</td>\n",
       "      <td>1985-01-25</td>\n",
       "      <td>1994-11-01</td>\n",
       "    </tr>\n",
       "    <tr>\n",
       "      <th>98</th>\n",
       "      <td>Isreal</td>\n",
       "      <td>Lynch</td>\n",
       "      <td>F</td>\n",
       "      <td>2002-06-15</td>\n",
       "      <td>2014-11-14</td>\n",
       "    </tr>\n",
       "    <tr>\n",
       "      <th>99</th>\n",
       "      <td>Arthor</td>\n",
       "      <td>Collier</td>\n",
       "      <td>M</td>\n",
       "      <td>2002-11-24</td>\n",
       "      <td>2017-07-22</td>\n",
       "    </tr>\n",
       "  </tbody>\n",
       "</table>\n",
       "<p>100 rows × 5 columns</p>\n",
       "</div>"
      ],
      "text/plain": [
       "      First       Last Gender  Birthdate       xdate\n",
       "id                                                  \n",
       "0     Andre  Bergstrom      F 1944-11-24  2002-05-01\n",
       "1     Ottie      Olson      M 1985-01-06  1995-02-20\n",
       "2   Indiana     Rempel      M 1978-02-14  2016-08-11\n",
       "3    Mariah  VonRueden      M 1964-09-19  1994-04-15\n",
       "4     Mayme  Buckridge      M 1974-10-27  2020-09-18\n",
       "..      ...        ...    ...        ...         ...\n",
       "95   Author    Pfeffer      F 1990-02-19  2007-12-29\n",
       "96  Paulina      Kuhic      F 1949-09-18  1994-02-16\n",
       "97    Arkie   O'Conner      M 1985-01-25  1994-11-01\n",
       "98   Isreal      Lynch      F 2002-06-15  2014-11-14\n",
       "99   Arthor    Collier      M 2002-11-24  2017-07-22\n",
       "\n",
       "[100 rows x 5 columns]"
      ]
     },
     "execution_count": 9,
     "metadata": {},
     "output_type": "execute_result"
    }
   ],
   "source": [
    "df"
   ]
  },
  {
   "cell_type": "code",
   "execution_count": 10,
   "id": "897cc51d-1b5c-481b-899c-eb51115e8a35",
   "metadata": {},
   "outputs": [
    {
     "data": {
      "text/plain": [
       "{'job': 'Conservator, furniture',\n",
       " 'company': 'Mclean Inc',\n",
       " 'ssn': '717-70-6411',\n",
       " 'residence': '339 Riley Mission Suite 515\\nSouth Brendamouth, ID 32356',\n",
       " 'current_location': (Decimal('-85.6489225'), Decimal('-34.487601')),\n",
       " 'blood_group': 'A-',\n",
       " 'website': ['https://www.simmons-brown.com/', 'http://www.walters.com/'],\n",
       " 'username': 'myersmitchell',\n",
       " 'name': 'Chelsea Greer',\n",
       " 'sex': 'F',\n",
       " 'address': 'Unit 0903 Box 2173\\nDPO AP 08507',\n",
       " 'mail': 'stephenschristine@yahoo.com',\n",
       " 'birthdate': datetime.date(1915, 4, 22)}"
      ]
     },
     "execution_count": 10,
     "metadata": {},
     "output_type": "execute_result"
    }
   ],
   "source": [
    "fake.profile()"
   ]
  },
  {
   "cell_type": "code",
   "execution_count": 24,
   "id": "3c17b844-8007-42ec-850e-436488f0d0b6",
   "metadata": {},
   "outputs": [
    {
     "name": "stderr",
     "output_type": "stream",
     "text": [
      "100%|██████████| 10000/10000 [00:14<00:00, 669.49it/s]\n"
     ]
    }
   ],
   "source": [
    "from tqdm import tqdm\n",
    "# caution, to gen 100K lines it takes some time ~ 2-3 minutes\n",
    "fake = Faker()\n",
    "def make_people(num):\n",
    "    fake_persons = [{'id': x+1000,\n",
    "                     'name': fake.name(),\n",
    "                     'email': fake.email(),\n",
    "                     'address': fake.address(),\n",
    "                     'city': fake.city(),\n",
    "                     'dateTime': fake.date_between(start_date='-30y', end_date='today'),\n",
    "                     'randomInt': np.random.randint(0,10000)} for x in tqdm(range(num))]\n",
    "    return fake_persons\n",
    "df = pd.DataFrame(make_people(10*1000))\n",
    "df.head()\n",
    "df.to_csv('./data/raw/fake_people.csv',index=False) # do not write index col"
   ]
  },
  {
   "cell_type": "code",
   "execution_count": 25,
   "id": "1a293764-8a27-451b-8879-e04ab6923434",
   "metadata": {},
   "outputs": [
    {
     "data": {
      "text/html": [
       "<div>\n",
       "<style scoped>\n",
       "    .dataframe tbody tr th:only-of-type {\n",
       "        vertical-align: middle;\n",
       "    }\n",
       "\n",
       "    .dataframe tbody tr th {\n",
       "        vertical-align: top;\n",
       "    }\n",
       "\n",
       "    .dataframe thead th {\n",
       "        text-align: right;\n",
       "    }\n",
       "</style>\n",
       "<table border=\"1\" class=\"dataframe\">\n",
       "  <thead>\n",
       "    <tr style=\"text-align: right;\">\n",
       "      <th></th>\n",
       "      <th>id</th>\n",
       "      <th>name</th>\n",
       "      <th>email</th>\n",
       "      <th>address</th>\n",
       "      <th>city</th>\n",
       "      <th>dateTime</th>\n",
       "      <th>randomInt</th>\n",
       "    </tr>\n",
       "  </thead>\n",
       "  <tbody>\n",
       "    <tr>\n",
       "      <th>0</th>\n",
       "      <td>1000</td>\n",
       "      <td>David Farrell</td>\n",
       "      <td>bairdmichelle@example.com</td>\n",
       "      <td>560 Edward Glens Suite 325\\nLake Dylanmouth, S...</td>\n",
       "      <td>Colemanburgh</td>\n",
       "      <td>2005-05-20</td>\n",
       "      <td>1494</td>\n",
       "    </tr>\n",
       "    <tr>\n",
       "      <th>1</th>\n",
       "      <td>1001</td>\n",
       "      <td>Daniel Scott</td>\n",
       "      <td>michellemccormick@example.net</td>\n",
       "      <td>672 Denise Glen\\nPort Kimberlyland, ME 03370</td>\n",
       "      <td>Port Jody</td>\n",
       "      <td>1996-05-23</td>\n",
       "      <td>8577</td>\n",
       "    </tr>\n",
       "    <tr>\n",
       "      <th>2</th>\n",
       "      <td>1002</td>\n",
       "      <td>Heather Thompson</td>\n",
       "      <td>wjames@example.com</td>\n",
       "      <td>8537 Juan Mountains\\nPort Richard, WA 72950</td>\n",
       "      <td>South Stephanieshire</td>\n",
       "      <td>2019-01-17</td>\n",
       "      <td>4966</td>\n",
       "    </tr>\n",
       "    <tr>\n",
       "      <th>3</th>\n",
       "      <td>1003</td>\n",
       "      <td>Dr. Scott Morgan DDS</td>\n",
       "      <td>uburch@example.com</td>\n",
       "      <td>66801 Cunningham Circle\\nLake Joshua, VA 33126</td>\n",
       "      <td>Danielberg</td>\n",
       "      <td>1997-09-16</td>\n",
       "      <td>5824</td>\n",
       "    </tr>\n",
       "    <tr>\n",
       "      <th>4</th>\n",
       "      <td>1004</td>\n",
       "      <td>Jennifer Torres</td>\n",
       "      <td>randall51@example.net</td>\n",
       "      <td>PSC 0139, Box 0456\\nAPO AE 09875</td>\n",
       "      <td>Lake Jessica</td>\n",
       "      <td>2007-02-11</td>\n",
       "      <td>6989</td>\n",
       "    </tr>\n",
       "  </tbody>\n",
       "</table>\n",
       "</div>"
      ],
      "text/plain": [
       "     id                  name                          email  \\\n",
       "0  1000         David Farrell      bairdmichelle@example.com   \n",
       "1  1001          Daniel Scott  michellemccormick@example.net   \n",
       "2  1002      Heather Thompson             wjames@example.com   \n",
       "3  1003  Dr. Scott Morgan DDS             uburch@example.com   \n",
       "4  1004       Jennifer Torres          randall51@example.net   \n",
       "\n",
       "                                             address                  city  \\\n",
       "0  560 Edward Glens Suite 325\\nLake Dylanmouth, S...          Colemanburgh   \n",
       "1       672 Denise Glen\\nPort Kimberlyland, ME 03370             Port Jody   \n",
       "2        8537 Juan Mountains\\nPort Richard, WA 72950  South Stephanieshire   \n",
       "3     66801 Cunningham Circle\\nLake Joshua, VA 33126            Danielberg   \n",
       "4                   PSC 0139, Box 0456\\nAPO AE 09875          Lake Jessica   \n",
       "\n",
       "     dateTime  randomInt  \n",
       "0  2005-05-20       1494  \n",
       "1  1996-05-23       8577  \n",
       "2  2019-01-17       4966  \n",
       "3  1997-09-16       5824  \n",
       "4  2007-02-11       6989  "
      ]
     },
     "execution_count": 25,
     "metadata": {},
     "output_type": "execute_result"
    }
   ],
   "source": [
    "df.head()"
   ]
  },
  {
   "cell_type": "markdown",
   "id": "9b528dca-73c8-415e-980b-73d008065195",
   "metadata": {},
   "source": [
    "inspired by https://towardsdatascience.com/generation-of-large-csv-data-using-python-faker-8cfcbedca7a7\n",
    "\n",
    "we do not load dataframe into memory and write straight to csv file. However it still takes 16 min for 500K records"
   ]
  },
  {
   "cell_type": "code",
   "execution_count": 26,
   "id": "c797c6a5-8c93-4731-bce8-063d49929d73",
   "metadata": {},
   "outputs": [
    {
     "name": "stderr",
     "output_type": "stream",
     "text": [
      "100%|██████████| 500000/500000 [17:23<00:00, 479.01it/s] \n",
      "100%|██████████| 500000/500000 [19:15<00:00, 432.90it/s] \n",
      "100%|██████████| 500000/500000 [18:28<00:00, 450.87it/s]  \n",
      "100%|██████████| 500000/500000 [15:36<00:00, 533.68it/s]\n",
      " 67%|██████▋   | 332621/500000 [10:13<05:08, 542.13it/s]\n"
     ]
    },
    {
     "ename": "KeyboardInterrupt",
     "evalue": "",
     "output_type": "error",
     "traceback": [
      "\u001b[0;31m---------------------------------------------------------------------------\u001b[0m",
      "\u001b[0;31mKeyboardInterrupt\u001b[0m                         Traceback (most recent call last)",
      "\u001b[0;32m/tmp/ipykernel_3646/332800159.py\u001b[0m in \u001b[0;36m<module>\u001b[0;34m\u001b[0m\n\u001b[0;32m----> 1\u001b[0;31m \u001b[0mget_ipython\u001b[0m\u001b[0;34m(\u001b[0m\u001b[0;34m)\u001b[0m\u001b[0;34m.\u001b[0m\u001b[0mrun_cell_magic\u001b[0m\u001b[0;34m(\u001b[0m\u001b[0;34m'timeit'\u001b[0m\u001b[0;34m,\u001b[0m \u001b[0;34m''\u001b[0m\u001b[0;34m,\u001b[0m \u001b[0;34m'from tqdm import tqdm\\nimport csv\\ndef datagenerate(records, headers):\\n    fake = Faker(\\'en_US\\')\\n    with open(\"People_data.csv\", \\'wt\\') as csvFile:\\n        writer = csv.DictWriter(csvFile, fieldnames=headers)\\n        writer.writeheader()\\n        for i in tqdm(range(records)):\\n            full_name = fake.name()\\n            \\n            writer.writerow({\\'id\\': i+1000,\\n                     \\'name\\': fake.name(),\\n                     \\'email\\': fake.email(),\\n                     \\'address\\': fake.address(),\\n                     \\'city\\': fake.city(),\\n                     \\'dateTime\\': fake.date_between(start_date=\\'-30y\\', end_date=\\'today\\'),\\n                     \\'randomInt\\': np.random.randint(0,10000)})\\n            \\nrecords = 500*1000 # 500k records\\nheaders = [\"id\",\"name\", \"email\", \"address\",\"city\",\"dateTime\",\"randomInt\"]\\ndatagenerate(records, headers)\\n'\u001b[0m\u001b[0;34m)\u001b[0m\u001b[0;34m\u001b[0m\u001b[0;34m\u001b[0m\u001b[0m\n\u001b[0m",
      "\u001b[0;32m/opt/conda/lib/python3.9/site-packages/IPython/core/interactiveshell.py\u001b[0m in \u001b[0;36mrun_cell_magic\u001b[0;34m(self, magic_name, line, cell)\u001b[0m\n\u001b[1;32m   2404\u001b[0m             \u001b[0;32mwith\u001b[0m \u001b[0mself\u001b[0m\u001b[0;34m.\u001b[0m\u001b[0mbuiltin_trap\u001b[0m\u001b[0;34m:\u001b[0m\u001b[0;34m\u001b[0m\u001b[0;34m\u001b[0m\u001b[0m\n\u001b[1;32m   2405\u001b[0m                 \u001b[0margs\u001b[0m \u001b[0;34m=\u001b[0m \u001b[0;34m(\u001b[0m\u001b[0mmagic_arg_s\u001b[0m\u001b[0;34m,\u001b[0m \u001b[0mcell\u001b[0m\u001b[0;34m)\u001b[0m\u001b[0;34m\u001b[0m\u001b[0;34m\u001b[0m\u001b[0m\n\u001b[0;32m-> 2406\u001b[0;31m                 \u001b[0mresult\u001b[0m \u001b[0;34m=\u001b[0m \u001b[0mfn\u001b[0m\u001b[0;34m(\u001b[0m\u001b[0;34m*\u001b[0m\u001b[0margs\u001b[0m\u001b[0;34m,\u001b[0m \u001b[0;34m**\u001b[0m\u001b[0mkwargs\u001b[0m\u001b[0;34m)\u001b[0m\u001b[0;34m\u001b[0m\u001b[0;34m\u001b[0m\u001b[0m\n\u001b[0m\u001b[1;32m   2407\u001b[0m             \u001b[0;32mreturn\u001b[0m \u001b[0mresult\u001b[0m\u001b[0;34m\u001b[0m\u001b[0;34m\u001b[0m\u001b[0m\n\u001b[1;32m   2408\u001b[0m \u001b[0;34m\u001b[0m\u001b[0m\n",
      "\u001b[0;32m/opt/conda/lib/python3.9/site-packages/decorator.py\u001b[0m in \u001b[0;36mfun\u001b[0;34m(*args, **kw)\u001b[0m\n\u001b[1;32m    230\u001b[0m             \u001b[0;32mif\u001b[0m \u001b[0;32mnot\u001b[0m \u001b[0mkwsyntax\u001b[0m\u001b[0;34m:\u001b[0m\u001b[0;34m\u001b[0m\u001b[0;34m\u001b[0m\u001b[0m\n\u001b[1;32m    231\u001b[0m                 \u001b[0margs\u001b[0m\u001b[0;34m,\u001b[0m \u001b[0mkw\u001b[0m \u001b[0;34m=\u001b[0m \u001b[0mfix\u001b[0m\u001b[0;34m(\u001b[0m\u001b[0margs\u001b[0m\u001b[0;34m,\u001b[0m \u001b[0mkw\u001b[0m\u001b[0;34m,\u001b[0m \u001b[0msig\u001b[0m\u001b[0;34m)\u001b[0m\u001b[0;34m\u001b[0m\u001b[0;34m\u001b[0m\u001b[0m\n\u001b[0;32m--> 232\u001b[0;31m             \u001b[0;32mreturn\u001b[0m \u001b[0mcaller\u001b[0m\u001b[0;34m(\u001b[0m\u001b[0mfunc\u001b[0m\u001b[0;34m,\u001b[0m \u001b[0;34m*\u001b[0m\u001b[0;34m(\u001b[0m\u001b[0mextras\u001b[0m \u001b[0;34m+\u001b[0m \u001b[0margs\u001b[0m\u001b[0;34m)\u001b[0m\u001b[0;34m,\u001b[0m \u001b[0;34m**\u001b[0m\u001b[0mkw\u001b[0m\u001b[0;34m)\u001b[0m\u001b[0;34m\u001b[0m\u001b[0;34m\u001b[0m\u001b[0m\n\u001b[0m\u001b[1;32m    233\u001b[0m     \u001b[0mfun\u001b[0m\u001b[0;34m.\u001b[0m\u001b[0m__name__\u001b[0m \u001b[0;34m=\u001b[0m \u001b[0mfunc\u001b[0m\u001b[0;34m.\u001b[0m\u001b[0m__name__\u001b[0m\u001b[0;34m\u001b[0m\u001b[0;34m\u001b[0m\u001b[0m\n\u001b[1;32m    234\u001b[0m     \u001b[0mfun\u001b[0m\u001b[0;34m.\u001b[0m\u001b[0m__doc__\u001b[0m \u001b[0;34m=\u001b[0m \u001b[0mfunc\u001b[0m\u001b[0;34m.\u001b[0m\u001b[0m__doc__\u001b[0m\u001b[0;34m\u001b[0m\u001b[0;34m\u001b[0m\u001b[0m\n",
      "\u001b[0;32m/opt/conda/lib/python3.9/site-packages/IPython/core/magic.py\u001b[0m in \u001b[0;36m<lambda>\u001b[0;34m(f, *a, **k)\u001b[0m\n\u001b[1;32m    185\u001b[0m     \u001b[0;31m# but it's overkill for just that one bit of state.\u001b[0m\u001b[0;34m\u001b[0m\u001b[0;34m\u001b[0m\u001b[0m\n\u001b[1;32m    186\u001b[0m     \u001b[0;32mdef\u001b[0m \u001b[0mmagic_deco\u001b[0m\u001b[0;34m(\u001b[0m\u001b[0marg\u001b[0m\u001b[0;34m)\u001b[0m\u001b[0;34m:\u001b[0m\u001b[0;34m\u001b[0m\u001b[0;34m\u001b[0m\u001b[0m\n\u001b[0;32m--> 187\u001b[0;31m         \u001b[0mcall\u001b[0m \u001b[0;34m=\u001b[0m \u001b[0;32mlambda\u001b[0m \u001b[0mf\u001b[0m\u001b[0;34m,\u001b[0m \u001b[0;34m*\u001b[0m\u001b[0ma\u001b[0m\u001b[0;34m,\u001b[0m \u001b[0;34m**\u001b[0m\u001b[0mk\u001b[0m\u001b[0;34m:\u001b[0m \u001b[0mf\u001b[0m\u001b[0;34m(\u001b[0m\u001b[0;34m*\u001b[0m\u001b[0ma\u001b[0m\u001b[0;34m,\u001b[0m \u001b[0;34m**\u001b[0m\u001b[0mk\u001b[0m\u001b[0;34m)\u001b[0m\u001b[0;34m\u001b[0m\u001b[0;34m\u001b[0m\u001b[0m\n\u001b[0m\u001b[1;32m    188\u001b[0m \u001b[0;34m\u001b[0m\u001b[0m\n\u001b[1;32m    189\u001b[0m         \u001b[0;32mif\u001b[0m \u001b[0mcallable\u001b[0m\u001b[0;34m(\u001b[0m\u001b[0marg\u001b[0m\u001b[0;34m)\u001b[0m\u001b[0;34m:\u001b[0m\u001b[0;34m\u001b[0m\u001b[0;34m\u001b[0m\u001b[0m\n",
      "\u001b[0;32m/opt/conda/lib/python3.9/site-packages/IPython/core/magics/execution.py\u001b[0m in \u001b[0;36mtimeit\u001b[0;34m(self, line, cell, local_ns)\u001b[0m\n\u001b[1;32m   1171\u001b[0m                     \u001b[0;32mbreak\u001b[0m\u001b[0;34m\u001b[0m\u001b[0;34m\u001b[0m\u001b[0m\n\u001b[1;32m   1172\u001b[0m \u001b[0;34m\u001b[0m\u001b[0m\n\u001b[0;32m-> 1173\u001b[0;31m         \u001b[0mall_runs\u001b[0m \u001b[0;34m=\u001b[0m \u001b[0mtimer\u001b[0m\u001b[0;34m.\u001b[0m\u001b[0mrepeat\u001b[0m\u001b[0;34m(\u001b[0m\u001b[0mrepeat\u001b[0m\u001b[0;34m,\u001b[0m \u001b[0mnumber\u001b[0m\u001b[0;34m)\u001b[0m\u001b[0;34m\u001b[0m\u001b[0;34m\u001b[0m\u001b[0m\n\u001b[0m\u001b[1;32m   1174\u001b[0m         \u001b[0mbest\u001b[0m \u001b[0;34m=\u001b[0m \u001b[0mmin\u001b[0m\u001b[0;34m(\u001b[0m\u001b[0mall_runs\u001b[0m\u001b[0;34m)\u001b[0m \u001b[0;34m/\u001b[0m \u001b[0mnumber\u001b[0m\u001b[0;34m\u001b[0m\u001b[0;34m\u001b[0m\u001b[0m\n\u001b[1;32m   1175\u001b[0m         \u001b[0mworst\u001b[0m \u001b[0;34m=\u001b[0m \u001b[0mmax\u001b[0m\u001b[0;34m(\u001b[0m\u001b[0mall_runs\u001b[0m\u001b[0;34m)\u001b[0m \u001b[0;34m/\u001b[0m \u001b[0mnumber\u001b[0m\u001b[0;34m\u001b[0m\u001b[0;34m\u001b[0m\u001b[0m\n",
      "\u001b[0;32m/opt/conda/lib/python3.9/timeit.py\u001b[0m in \u001b[0;36mrepeat\u001b[0;34m(self, repeat, number)\u001b[0m\n\u001b[1;32m    203\u001b[0m         \u001b[0mr\u001b[0m \u001b[0;34m=\u001b[0m \u001b[0;34m[\u001b[0m\u001b[0;34m]\u001b[0m\u001b[0;34m\u001b[0m\u001b[0;34m\u001b[0m\u001b[0m\n\u001b[1;32m    204\u001b[0m         \u001b[0;32mfor\u001b[0m \u001b[0mi\u001b[0m \u001b[0;32min\u001b[0m \u001b[0mrange\u001b[0m\u001b[0;34m(\u001b[0m\u001b[0mrepeat\u001b[0m\u001b[0;34m)\u001b[0m\u001b[0;34m:\u001b[0m\u001b[0;34m\u001b[0m\u001b[0;34m\u001b[0m\u001b[0m\n\u001b[0;32m--> 205\u001b[0;31m             \u001b[0mt\u001b[0m \u001b[0;34m=\u001b[0m \u001b[0mself\u001b[0m\u001b[0;34m.\u001b[0m\u001b[0mtimeit\u001b[0m\u001b[0;34m(\u001b[0m\u001b[0mnumber\u001b[0m\u001b[0;34m)\u001b[0m\u001b[0;34m\u001b[0m\u001b[0;34m\u001b[0m\u001b[0m\n\u001b[0m\u001b[1;32m    206\u001b[0m             \u001b[0mr\u001b[0m\u001b[0;34m.\u001b[0m\u001b[0mappend\u001b[0m\u001b[0;34m(\u001b[0m\u001b[0mt\u001b[0m\u001b[0;34m)\u001b[0m\u001b[0;34m\u001b[0m\u001b[0;34m\u001b[0m\u001b[0m\n\u001b[1;32m    207\u001b[0m         \u001b[0;32mreturn\u001b[0m \u001b[0mr\u001b[0m\u001b[0;34m\u001b[0m\u001b[0;34m\u001b[0m\u001b[0m\n",
      "\u001b[0;32m/opt/conda/lib/python3.9/site-packages/IPython/core/magics/execution.py\u001b[0m in \u001b[0;36mtimeit\u001b[0;34m(self, number)\u001b[0m\n\u001b[1;32m    167\u001b[0m         \u001b[0mgc\u001b[0m\u001b[0;34m.\u001b[0m\u001b[0mdisable\u001b[0m\u001b[0;34m(\u001b[0m\u001b[0;34m)\u001b[0m\u001b[0;34m\u001b[0m\u001b[0;34m\u001b[0m\u001b[0m\n\u001b[1;32m    168\u001b[0m         \u001b[0;32mtry\u001b[0m\u001b[0;34m:\u001b[0m\u001b[0;34m\u001b[0m\u001b[0;34m\u001b[0m\u001b[0m\n\u001b[0;32m--> 169\u001b[0;31m             \u001b[0mtiming\u001b[0m \u001b[0;34m=\u001b[0m \u001b[0mself\u001b[0m\u001b[0;34m.\u001b[0m\u001b[0minner\u001b[0m\u001b[0;34m(\u001b[0m\u001b[0mit\u001b[0m\u001b[0;34m,\u001b[0m \u001b[0mself\u001b[0m\u001b[0;34m.\u001b[0m\u001b[0mtimer\u001b[0m\u001b[0;34m)\u001b[0m\u001b[0;34m\u001b[0m\u001b[0;34m\u001b[0m\u001b[0m\n\u001b[0m\u001b[1;32m    170\u001b[0m         \u001b[0;32mfinally\u001b[0m\u001b[0;34m:\u001b[0m\u001b[0;34m\u001b[0m\u001b[0;34m\u001b[0m\u001b[0m\n\u001b[1;32m    171\u001b[0m             \u001b[0;32mif\u001b[0m \u001b[0mgcold\u001b[0m\u001b[0;34m:\u001b[0m\u001b[0;34m\u001b[0m\u001b[0;34m\u001b[0m\u001b[0m\n",
      "\u001b[0;32m<magic-timeit>\u001b[0m in \u001b[0;36minner\u001b[0;34m(_it, _timer)\u001b[0m\n",
      "\u001b[0;32m<magic-timeit>\u001b[0m in \u001b[0;36mdatagenerate\u001b[0;34m(records, headers)\u001b[0m\n",
      "\u001b[0;32m/opt/conda/lib/python3.9/site-packages/faker/providers/date_time/__init__.py\u001b[0m in \u001b[0;36mdate_between\u001b[0;34m(self, start_date, end_date)\u001b[0m\n\u001b[1;32m   1613\u001b[0m \u001b[0;34m\u001b[0m\u001b[0m\n\u001b[1;32m   1614\u001b[0m         \u001b[0mstart_date\u001b[0m \u001b[0;34m=\u001b[0m \u001b[0mself\u001b[0m\u001b[0;34m.\u001b[0m\u001b[0m_parse_date\u001b[0m\u001b[0;34m(\u001b[0m\u001b[0mstart_date\u001b[0m\u001b[0;34m)\u001b[0m\u001b[0;34m\u001b[0m\u001b[0;34m\u001b[0m\u001b[0m\n\u001b[0;32m-> 1615\u001b[0;31m         \u001b[0mend_date\u001b[0m \u001b[0;34m=\u001b[0m \u001b[0mself\u001b[0m\u001b[0;34m.\u001b[0m\u001b[0m_parse_date\u001b[0m\u001b[0;34m(\u001b[0m\u001b[0mend_date\u001b[0m\u001b[0;34m)\u001b[0m\u001b[0;34m\u001b[0m\u001b[0;34m\u001b[0m\u001b[0m\n\u001b[0m\u001b[1;32m   1616\u001b[0m         \u001b[0;32mreturn\u001b[0m \u001b[0mself\u001b[0m\u001b[0;34m.\u001b[0m\u001b[0mdate_between_dates\u001b[0m\u001b[0;34m(\u001b[0m\u001b[0mdate_start\u001b[0m\u001b[0;34m=\u001b[0m\u001b[0mstart_date\u001b[0m\u001b[0;34m,\u001b[0m \u001b[0mdate_end\u001b[0m\u001b[0;34m=\u001b[0m\u001b[0mend_date\u001b[0m\u001b[0;34m)\u001b[0m\u001b[0;34m\u001b[0m\u001b[0;34m\u001b[0m\u001b[0m\n\u001b[1;32m   1617\u001b[0m \u001b[0;34m\u001b[0m\u001b[0m\n",
      "\u001b[0;32m/opt/conda/lib/python3.9/site-packages/faker/providers/date_time/__init__.py\u001b[0m in \u001b[0;36m_parse_date\u001b[0;34m(cls, value)\u001b[0m\n\u001b[1;32m   1565\u001b[0m         \u001b[0;32melif\u001b[0m \u001b[0misinstance\u001b[0m\u001b[0;34m(\u001b[0m\u001b[0mvalue\u001b[0m\u001b[0;34m,\u001b[0m \u001b[0mdtdate\u001b[0m\u001b[0;34m)\u001b[0m\u001b[0;34m:\u001b[0m\u001b[0;34m\u001b[0m\u001b[0;34m\u001b[0m\u001b[0m\n\u001b[1;32m   1566\u001b[0m             \u001b[0;32mreturn\u001b[0m \u001b[0mvalue\u001b[0m\u001b[0;34m\u001b[0m\u001b[0;34m\u001b[0m\u001b[0m\n\u001b[0;32m-> 1567\u001b[0;31m         \u001b[0mtoday\u001b[0m \u001b[0;34m=\u001b[0m \u001b[0mdtdate\u001b[0m\u001b[0;34m.\u001b[0m\u001b[0mtoday\u001b[0m\u001b[0;34m(\u001b[0m\u001b[0;34m)\u001b[0m\u001b[0;34m\u001b[0m\u001b[0;34m\u001b[0m\u001b[0m\n\u001b[0m\u001b[1;32m   1568\u001b[0m         \u001b[0;32mif\u001b[0m \u001b[0misinstance\u001b[0m\u001b[0;34m(\u001b[0m\u001b[0mvalue\u001b[0m\u001b[0;34m,\u001b[0m \u001b[0mtimedelta\u001b[0m\u001b[0;34m)\u001b[0m\u001b[0;34m:\u001b[0m\u001b[0;34m\u001b[0m\u001b[0;34m\u001b[0m\u001b[0m\n\u001b[1;32m   1569\u001b[0m             \u001b[0;32mreturn\u001b[0m \u001b[0mtoday\u001b[0m \u001b[0;34m+\u001b[0m \u001b[0mvalue\u001b[0m\u001b[0;34m\u001b[0m\u001b[0;34m\u001b[0m\u001b[0m\n",
      "\u001b[0;31mKeyboardInterrupt\u001b[0m: "
     ]
    }
   ],
   "source": [
    "from tqdm import tqdm\n",
    "import csv\n",
    "def datagenerate(records, headers):\n",
    "    fake = Faker('en_US')\n",
    "    with open(\"People_data.csv\", 'wt') as csvFile:\n",
    "        writer = csv.DictWriter(csvFile, fieldnames=headers)\n",
    "        writer.writeheader()\n",
    "        for i in tqdm(range(records)):\n",
    "            full_name = fake.name()\n",
    "            \n",
    "            writer.writerow({'id': i+1000,\n",
    "                     'name': fake.name(),\n",
    "                     'email': fake.email(),\n",
    "                     'address': fake.address(),\n",
    "                     'city': fake.city(),\n",
    "                     'dateTime': fake.date_between(start_date='-30y', end_date='today'),\n",
    "                     'randomInt': np.random.randint(0,10000)})\n",
    "            \n",
    "records = 500*1000 # 500k records\n",
    "headers = [\"id\",\"name\", \"email\", \"address\",\"city\",\"dateTime\",\"randomInt\"]\n",
    "datagenerate(records, headers)"
   ]
  },
  {
   "cell_type": "code",
   "execution_count": null,
   "id": "928f337d-a468-4d20-b568-e383ab1df795",
   "metadata": {},
   "outputs": [],
   "source": []
  }
 ],
 "metadata": {
  "kernelspec": {
   "display_name": "Python 3",
   "language": "python",
   "name": "python3"
  },
  "language_info": {
   "codemirror_mode": {
    "name": "ipython",
    "version": 3
   },
   "file_extension": ".py",
   "mimetype": "text/x-python",
   "name": "python",
   "nbconvert_exporter": "python",
   "pygments_lexer": "ipython3",
   "version": "3.9.4"
  }
 },
 "nbformat": 4,
 "nbformat_minor": 5
}
